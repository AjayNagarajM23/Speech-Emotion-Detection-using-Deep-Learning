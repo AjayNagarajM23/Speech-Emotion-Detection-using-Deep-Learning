{
 "nbformat": 4,
 "nbformat_minor": 0,
 "metadata": {
  "colab": {
   "name": "MinorProject-II.ipynb",
   "provenance": [],
   "collapsed_sections": []
  },
  "kernelspec": {
   "name": "python3",
   "display_name": "Python 3"
  },
  "language_info": {
   "name": "python"
  }
 },
 "cells": [
  {
   "cell_type": "code",
   "execution_count": 17,
   "outputs": [],
   "source": [
    "import pandas as pd\n",
    "import numpy as np\n",
    "import librosa"
   ],
   "metadata": {
    "collapsed": false,
    "pycharm": {
     "name": "#%%\n"
    }
   }
  },
  {
   "cell_type": "code",
   "execution_count": 18,
   "outputs": [],
   "source": [
    "dataset = pd.read_csv('features.csv')\n",
    "X = dataset.iloc[: , :-1].values\n",
    "y = dataset.iloc[:,-1].values"
   ],
   "metadata": {
    "collapsed": false,
    "pycharm": {
     "name": "#%%\n"
    }
   }
  },
  {
   "cell_type": "code",
   "execution_count": 19,
   "outputs": [
    {
     "name": "stdout",
     "output_type": "stream",
     "text": [
      "[[2.20300745e-01 6.23627007e-01 6.38570786e-01 ... 4.71014682e-05\n",
      "  1.41795917e-05 8.68814823e-07]\n",
      " [3.13761393e-01 7.06200879e-01 7.22757806e-01 ... 9.66208682e-05\n",
      "  5.96556994e-05 4.68411033e-05]\n",
      " [1.71527778e-01 6.51568830e-01 6.04887307e-01 ... 9.97042662e-06\n",
      "  3.80867436e-06 1.89324098e-07]\n",
      " ...\n",
      " [1.48202402e-02 5.41738391e-01 4.94506985e-01 ... 4.72475449e-07\n",
      "  3.79017251e-07 2.64470543e-07]\n",
      " [2.22122758e-02 6.42237711e-01 6.16769111e-01 ... 2.25081128e-03\n",
      "  2.25411704e-03 2.23426394e-03]\n",
      " [1.30208333e-02 5.73239028e-01 5.25233388e-01 ... 9.04421782e-08\n",
      "  4.67206007e-08 1.34750602e-08]]\n"
     ]
    }
   ],
   "source": [
    "print(X)"
   ],
   "metadata": {
    "collapsed": false,
    "pycharm": {
     "name": "#%%\n"
    }
   }
  },
  {
   "cell_type": "code",
   "execution_count": 20,
   "outputs": [
    {
     "name": "stdout",
     "output_type": "stream",
     "text": [
      "['sad' 'sad' 'sad' ... 'neutral' 'neutral' 'neutral']\n"
     ]
    }
   ],
   "source": [
    "print(y)\n",
    "val = pd.DataFrame(y)\n",
    "val.to_csv('val.csv')"
   ],
   "metadata": {
    "collapsed": false,
    "pycharm": {
     "name": "#%%\n"
    }
   }
  },
  {
   "cell_type": "code",
   "source": [
    "from sklearn.preprocessing import OneHotEncoder\n",
    "encoder = OneHotEncoder()\n",
    "y = encoder.fit_transform(np.array(y).reshape(-1,1)).toarray()"
   ],
   "metadata": {
    "id": "ITpDoUKuYk2i"
   },
   "execution_count": 21,
   "outputs": []
  },
  {
   "cell_type": "code",
   "source": [
    "print(y)"
   ],
   "metadata": {
    "colab": {
     "base_uri": "https://localhost:8080/"
    },
    "id": "r0IrFBJoZev2",
    "outputId": "bd394635-5ac0-4be9-f2ce-90ffe177912f"
   },
   "execution_count": 22,
   "outputs": [
    {
     "name": "stdout",
     "output_type": "stream",
     "text": [
      "[[0. 0. 0. ... 0. 1. 0.]\n",
      " [0. 0. 0. ... 0. 1. 0.]\n",
      " [0. 0. 0. ... 0. 1. 0.]\n",
      " ...\n",
      " [0. 0. 0. ... 1. 0. 0.]\n",
      " [0. 0. 0. ... 1. 0. 0.]\n",
      " [0. 0. 0. ... 1. 0. 0.]]\n"
     ]
    }
   ]
  },
  {
   "cell_type": "code",
   "execution_count": 23,
   "outputs": [],
   "source": [
    "res = pd.DataFrame(y)\n",
    "res.to_csv('emotion.csv')"
   ],
   "metadata": {
    "collapsed": false,
    "pycharm": {
     "name": "#%%\n"
    }
   }
  },
  {
   "cell_type": "code",
   "execution_count": 24,
   "outputs": [
    {
     "data": {
      "text/plain": "((27355, 162), (27355, 8), (9119, 162), (9119, 8))"
     },
     "execution_count": 24,
     "metadata": {},
     "output_type": "execute_result"
    }
   ],
   "source": [
    "from sklearn.model_selection import train_test_split\n",
    "X_train, X_test, y_train, y_test = train_test_split(X, y,random_state = 9, shuffle=True)\n",
    "X_train.shape, y_train.shape, X_test.shape, y_test.shape"
   ],
   "metadata": {
    "collapsed": false,
    "pycharm": {
     "name": "#%%\n"
    }
   }
  },
  {
   "cell_type": "code",
   "source": [
    "from sklearn.preprocessing import StandardScaler\n",
    "sc = StandardScaler()\n",
    "X_train = sc.fit_transform(X_train)\n",
    "X_test = sc.transform(X_test)\n",
    "X_train.shape, y_train.shape, X_test.shape, y_test.shape"
   ],
   "metadata": {
    "colab": {
     "base_uri": "https://localhost:8080/"
    },
    "id": "PLZYIGdAVKMG",
    "outputId": "084e0edc-624d-4111-bbbd-fae757539aa4"
   },
   "execution_count": 25,
   "outputs": [
    {
     "data": {
      "text/plain": "((27355, 162), (27355, 8), (9119, 162), (9119, 8))"
     },
     "execution_count": 25,
     "metadata": {},
     "output_type": "execute_result"
    }
   ]
  },
  {
   "cell_type": "code",
   "source": [
    "# making our data compatible to model.\n",
    "X_train = np.expand_dims(X_train, axis=2)\n",
    "X_test = np.expand_dims(X_test, axis=2)\n",
    "X_train.shape, y_train.shape, X_test.shape, y_test.shape"
   ],
   "metadata": {
    "colab": {
     "base_uri": "https://localhost:8080/"
    },
    "id": "Vz6MKWzOkHJF",
    "outputId": "318e7e1b-9660-44eb-9f9a-83db82db97c8"
   },
   "execution_count": 26,
   "outputs": [
    {
     "data": {
      "text/plain": "((27355, 162, 1), (27355, 8), (9119, 162, 1), (9119, 8))"
     },
     "execution_count": 26,
     "metadata": {},
     "output_type": "execute_result"
    }
   ]
  },
  {
   "cell_type": "markdown",
   "source": [],
   "metadata": {
    "collapsed": false
   }
  },
  {
   "cell_type": "code",
   "source": [
    "from tensorflow.keras.models import Sequential\n",
    "from tensorflow.keras.layers import Dense\n",
    "from tensorflow.keras.layers import Flatten, Dropout, Activation\n",
    "from tensorflow.keras.layers import Conv1D, MaxPooling1D"
   ],
   "metadata": {
    "id": "MWw6bofglFB7"
   },
   "execution_count": 27,
   "outputs": []
  },
  {
   "cell_type": "code",
   "source": [
    "model = Sequential()\n",
    "\n",
    "model.add(Conv1D(64, 5, padding='same', input_shape=(162,1)))\n",
    "model.add(Activation('relu'))\n",
    "model.add(Dropout(0.1))\n",
    "model.add(MaxPooling1D(pool_size=4))\n",
    "model.add(Conv1D(128, 5, padding='same', ))\n",
    "model.add(Activation('relu'))\n",
    "model.add(Dropout(0.1))\n",
    "model.add(MaxPooling1D(pool_size=4))\n",
    "model.add(Conv1D(256, 5, padding='same', ))\n",
    "model.add(Activation('relu'))\n",
    "model.add(Dropout(0.1))\n",
    "model.add(Flatten())\n",
    "model.add(Dense(8))\n",
    "model.add(Activation('softmax'))\n",
    "\n",
    "model.summary()"
   ],
   "metadata": {
    "colab": {
     "base_uri": "https://localhost:8080/"
    },
    "id": "il8CEeEwlB77",
    "outputId": "58ea5e52-ecdf-4747-eac5-ccd18b2cc67f"
   },
   "execution_count": 28,
   "outputs": [
    {
     "name": "stdout",
     "output_type": "stream",
     "text": [
      "Model: \"sequential_1\"\n",
      "_________________________________________________________________\n",
      " Layer (type)                Output Shape              Param #   \n",
      "=================================================================\n",
      " conv1d_3 (Conv1D)           (None, 162, 64)           384       \n",
      "                                                                 \n",
      " activation_4 (Activation)   (None, 162, 64)           0         \n",
      "                                                                 \n",
      " dropout_3 (Dropout)         (None, 162, 64)           0         \n",
      "                                                                 \n",
      " max_pooling1d_2 (MaxPooling  (None, 40, 64)           0         \n",
      " 1D)                                                             \n",
      "                                                                 \n",
      " conv1d_4 (Conv1D)           (None, 40, 128)           41088     \n",
      "                                                                 \n",
      " activation_5 (Activation)   (None, 40, 128)           0         \n",
      "                                                                 \n",
      " dropout_4 (Dropout)         (None, 40, 128)           0         \n",
      "                                                                 \n",
      " max_pooling1d_3 (MaxPooling  (None, 10, 128)          0         \n",
      " 1D)                                                             \n",
      "                                                                 \n",
      " conv1d_5 (Conv1D)           (None, 10, 256)           164096    \n",
      "                                                                 \n",
      " activation_6 (Activation)   (None, 10, 256)           0         \n",
      "                                                                 \n",
      " dropout_5 (Dropout)         (None, 10, 256)           0         \n",
      "                                                                 \n",
      " flatten_1 (Flatten)         (None, 2560)              0         \n",
      "                                                                 \n",
      " dense_1 (Dense)             (None, 8)                 20488     \n",
      "                                                                 \n",
      " activation_7 (Activation)   (None, 8)                 0         \n",
      "                                                                 \n",
      "=================================================================\n",
      "Total params: 226,056\n",
      "Trainable params: 226,056\n",
      "Non-trainable params: 0\n",
      "_________________________________________________________________\n"
     ]
    }
   ]
  },
  {
   "cell_type": "code",
   "source": [
    "model.compile(loss='categorical_crossentropy', optimizer='adam', metrics=['accuracy'])"
   ],
   "metadata": {
    "id": "BTI8FaKznVBd"
   },
   "execution_count": 15,
   "outputs": []
  },
  {
   "cell_type": "code",
   "execution_count": 16,
   "outputs": [
    {
     "name": "stdout",
     "output_type": "stream",
     "text": [
      "Epoch 1/100\n"
     ]
    },
    {
     "ename": "KeyboardInterrupt",
     "evalue": "",
     "output_type": "error",
     "traceback": [
      "\u001B[1;31m---------------------------------------------------------------------------\u001B[0m",
      "\u001B[1;31mKeyboardInterrupt\u001B[0m                         Traceback (most recent call last)",
      "Input \u001B[1;32mIn [16]\u001B[0m, in \u001B[0;36m<cell line: 1>\u001B[1;34m()\u001B[0m\n\u001B[1;32m----> 1\u001B[0m history \u001B[38;5;241m=\u001B[39m \u001B[43mmodel\u001B[49m\u001B[38;5;241;43m.\u001B[39;49m\u001B[43mfit\u001B[49m\u001B[43m(\u001B[49m\u001B[43mX_train\u001B[49m\u001B[43m,\u001B[49m\u001B[43m \u001B[49m\u001B[43my_train\u001B[49m\u001B[43m,\u001B[49m\u001B[43m \u001B[49m\u001B[43mbatch_size\u001B[49m\u001B[38;5;241;43m=\u001B[39;49m\u001B[38;5;241;43m2048\u001B[39;49m\u001B[43m,\u001B[49m\u001B[43m \u001B[49m\u001B[43mepochs\u001B[49m\u001B[38;5;241;43m=\u001B[39;49m\u001B[38;5;241;43m100\u001B[39;49m\u001B[43m,\u001B[49m\u001B[43m \u001B[49m\u001B[43mvalidation_data\u001B[49m\u001B[38;5;241;43m=\u001B[39;49m\u001B[43m(\u001B[49m\u001B[43mX_test\u001B[49m\u001B[43m,\u001B[49m\u001B[43m \u001B[49m\u001B[43my_test\u001B[49m\u001B[43m)\u001B[49m\u001B[43m)\u001B[49m\n",
      "File \u001B[1;32mc:\\users\\ajayn\\pycharmprojects\\minor-project-phase-2\\venv\\lib\\site-packages\\keras\\utils\\traceback_utils.py:64\u001B[0m, in \u001B[0;36mfilter_traceback.<locals>.error_handler\u001B[1;34m(*args, **kwargs)\u001B[0m\n\u001B[0;32m     62\u001B[0m filtered_tb \u001B[38;5;241m=\u001B[39m \u001B[38;5;28;01mNone\u001B[39;00m\n\u001B[0;32m     63\u001B[0m \u001B[38;5;28;01mtry\u001B[39;00m:\n\u001B[1;32m---> 64\u001B[0m   \u001B[38;5;28;01mreturn\u001B[39;00m fn(\u001B[38;5;241m*\u001B[39margs, \u001B[38;5;241m*\u001B[39m\u001B[38;5;241m*\u001B[39mkwargs)\n\u001B[0;32m     65\u001B[0m \u001B[38;5;28;01mexcept\u001B[39;00m \u001B[38;5;167;01mException\u001B[39;00m \u001B[38;5;28;01mas\u001B[39;00m e:  \u001B[38;5;66;03m# pylint: disable=broad-except\u001B[39;00m\n\u001B[0;32m     66\u001B[0m   filtered_tb \u001B[38;5;241m=\u001B[39m _process_traceback_frames(e\u001B[38;5;241m.\u001B[39m__traceback__)\n",
      "File \u001B[1;32mc:\\users\\ajayn\\pycharmprojects\\minor-project-phase-2\\venv\\lib\\site-packages\\keras\\engine\\training.py:1384\u001B[0m, in \u001B[0;36mModel.fit\u001B[1;34m(self, x, y, batch_size, epochs, verbose, callbacks, validation_split, validation_data, shuffle, class_weight, sample_weight, initial_epoch, steps_per_epoch, validation_steps, validation_batch_size, validation_freq, max_queue_size, workers, use_multiprocessing)\u001B[0m\n\u001B[0;32m   1377\u001B[0m \u001B[38;5;28;01mwith\u001B[39;00m tf\u001B[38;5;241m.\u001B[39mprofiler\u001B[38;5;241m.\u001B[39mexperimental\u001B[38;5;241m.\u001B[39mTrace(\n\u001B[0;32m   1378\u001B[0m     \u001B[38;5;124m'\u001B[39m\u001B[38;5;124mtrain\u001B[39m\u001B[38;5;124m'\u001B[39m,\n\u001B[0;32m   1379\u001B[0m     epoch_num\u001B[38;5;241m=\u001B[39mepoch,\n\u001B[0;32m   1380\u001B[0m     step_num\u001B[38;5;241m=\u001B[39mstep,\n\u001B[0;32m   1381\u001B[0m     batch_size\u001B[38;5;241m=\u001B[39mbatch_size,\n\u001B[0;32m   1382\u001B[0m     _r\u001B[38;5;241m=\u001B[39m\u001B[38;5;241m1\u001B[39m):\n\u001B[0;32m   1383\u001B[0m   callbacks\u001B[38;5;241m.\u001B[39mon_train_batch_begin(step)\n\u001B[1;32m-> 1384\u001B[0m   tmp_logs \u001B[38;5;241m=\u001B[39m \u001B[38;5;28;43mself\u001B[39;49m\u001B[38;5;241;43m.\u001B[39;49m\u001B[43mtrain_function\u001B[49m\u001B[43m(\u001B[49m\u001B[43miterator\u001B[49m\u001B[43m)\u001B[49m\n\u001B[0;32m   1385\u001B[0m   \u001B[38;5;28;01mif\u001B[39;00m data_handler\u001B[38;5;241m.\u001B[39mshould_sync:\n\u001B[0;32m   1386\u001B[0m     context\u001B[38;5;241m.\u001B[39masync_wait()\n",
      "File \u001B[1;32mc:\\users\\ajayn\\pycharmprojects\\minor-project-phase-2\\venv\\lib\\site-packages\\tensorflow\\python\\util\\traceback_utils.py:150\u001B[0m, in \u001B[0;36mfilter_traceback.<locals>.error_handler\u001B[1;34m(*args, **kwargs)\u001B[0m\n\u001B[0;32m    148\u001B[0m filtered_tb \u001B[38;5;241m=\u001B[39m \u001B[38;5;28;01mNone\u001B[39;00m\n\u001B[0;32m    149\u001B[0m \u001B[38;5;28;01mtry\u001B[39;00m:\n\u001B[1;32m--> 150\u001B[0m   \u001B[38;5;28;01mreturn\u001B[39;00m fn(\u001B[38;5;241m*\u001B[39margs, \u001B[38;5;241m*\u001B[39m\u001B[38;5;241m*\u001B[39mkwargs)\n\u001B[0;32m    151\u001B[0m \u001B[38;5;28;01mexcept\u001B[39;00m \u001B[38;5;167;01mException\u001B[39;00m \u001B[38;5;28;01mas\u001B[39;00m e:\n\u001B[0;32m    152\u001B[0m   filtered_tb \u001B[38;5;241m=\u001B[39m _process_traceback_frames(e\u001B[38;5;241m.\u001B[39m__traceback__)\n",
      "File \u001B[1;32mc:\\users\\ajayn\\pycharmprojects\\minor-project-phase-2\\venv\\lib\\site-packages\\tensorflow\\python\\eager\\def_function.py:915\u001B[0m, in \u001B[0;36mFunction.__call__\u001B[1;34m(self, *args, **kwds)\u001B[0m\n\u001B[0;32m    912\u001B[0m compiler \u001B[38;5;241m=\u001B[39m \u001B[38;5;124m\"\u001B[39m\u001B[38;5;124mxla\u001B[39m\u001B[38;5;124m\"\u001B[39m \u001B[38;5;28;01mif\u001B[39;00m \u001B[38;5;28mself\u001B[39m\u001B[38;5;241m.\u001B[39m_jit_compile \u001B[38;5;28;01melse\u001B[39;00m \u001B[38;5;124m\"\u001B[39m\u001B[38;5;124mnonXla\u001B[39m\u001B[38;5;124m\"\u001B[39m\n\u001B[0;32m    914\u001B[0m \u001B[38;5;28;01mwith\u001B[39;00m OptionalXlaContext(\u001B[38;5;28mself\u001B[39m\u001B[38;5;241m.\u001B[39m_jit_compile):\n\u001B[1;32m--> 915\u001B[0m   result \u001B[38;5;241m=\u001B[39m \u001B[38;5;28mself\u001B[39m\u001B[38;5;241m.\u001B[39m_call(\u001B[38;5;241m*\u001B[39margs, \u001B[38;5;241m*\u001B[39m\u001B[38;5;241m*\u001B[39mkwds)\n\u001B[0;32m    917\u001B[0m new_tracing_count \u001B[38;5;241m=\u001B[39m \u001B[38;5;28mself\u001B[39m\u001B[38;5;241m.\u001B[39mexperimental_get_tracing_count()\n\u001B[0;32m    918\u001B[0m without_tracing \u001B[38;5;241m=\u001B[39m (tracing_count \u001B[38;5;241m==\u001B[39m new_tracing_count)\n",
      "File \u001B[1;32mc:\\users\\ajayn\\pycharmprojects\\minor-project-phase-2\\venv\\lib\\site-packages\\tensorflow\\python\\eager\\def_function.py:963\u001B[0m, in \u001B[0;36mFunction._call\u001B[1;34m(self, *args, **kwds)\u001B[0m\n\u001B[0;32m    960\u001B[0m \u001B[38;5;28;01mtry\u001B[39;00m:\n\u001B[0;32m    961\u001B[0m   \u001B[38;5;66;03m# This is the first call of __call__, so we have to initialize.\u001B[39;00m\n\u001B[0;32m    962\u001B[0m   initializers \u001B[38;5;241m=\u001B[39m []\n\u001B[1;32m--> 963\u001B[0m   \u001B[38;5;28;43mself\u001B[39;49m\u001B[38;5;241;43m.\u001B[39;49m\u001B[43m_initialize\u001B[49m\u001B[43m(\u001B[49m\u001B[43margs\u001B[49m\u001B[43m,\u001B[49m\u001B[43m \u001B[49m\u001B[43mkwds\u001B[49m\u001B[43m,\u001B[49m\u001B[43m \u001B[49m\u001B[43madd_initializers_to\u001B[49m\u001B[38;5;241;43m=\u001B[39;49m\u001B[43minitializers\u001B[49m\u001B[43m)\u001B[49m\n\u001B[0;32m    964\u001B[0m \u001B[38;5;28;01mfinally\u001B[39;00m:\n\u001B[0;32m    965\u001B[0m   \u001B[38;5;66;03m# At this point we know that the initialization is complete (or less\u001B[39;00m\n\u001B[0;32m    966\u001B[0m   \u001B[38;5;66;03m# interestingly an exception was raised) so we no longer need a lock.\u001B[39;00m\n\u001B[0;32m    967\u001B[0m   \u001B[38;5;28mself\u001B[39m\u001B[38;5;241m.\u001B[39m_lock\u001B[38;5;241m.\u001B[39mrelease()\n",
      "File \u001B[1;32mc:\\users\\ajayn\\pycharmprojects\\minor-project-phase-2\\venv\\lib\\site-packages\\tensorflow\\python\\eager\\def_function.py:785\u001B[0m, in \u001B[0;36mFunction._initialize\u001B[1;34m(self, args, kwds, add_initializers_to)\u001B[0m\n\u001B[0;32m    782\u001B[0m \u001B[38;5;28mself\u001B[39m\u001B[38;5;241m.\u001B[39m_lifted_initializer_graph \u001B[38;5;241m=\u001B[39m lifted_initializer_graph\n\u001B[0;32m    783\u001B[0m \u001B[38;5;28mself\u001B[39m\u001B[38;5;241m.\u001B[39m_graph_deleter \u001B[38;5;241m=\u001B[39m FunctionDeleter(\u001B[38;5;28mself\u001B[39m\u001B[38;5;241m.\u001B[39m_lifted_initializer_graph)\n\u001B[0;32m    784\u001B[0m \u001B[38;5;28mself\u001B[39m\u001B[38;5;241m.\u001B[39m_concrete_stateful_fn \u001B[38;5;241m=\u001B[39m (\n\u001B[1;32m--> 785\u001B[0m     \u001B[38;5;28mself\u001B[39m\u001B[38;5;241m.\u001B[39m_stateful_fn\u001B[38;5;241m.\u001B[39m_get_concrete_function_internal_garbage_collected(  \u001B[38;5;66;03m# pylint: disable=protected-access\u001B[39;00m\n\u001B[0;32m    786\u001B[0m         \u001B[38;5;241m*\u001B[39margs, \u001B[38;5;241m*\u001B[39m\u001B[38;5;241m*\u001B[39mkwds))\n\u001B[0;32m    788\u001B[0m \u001B[38;5;28;01mdef\u001B[39;00m \u001B[38;5;21minvalid_creator_scope\u001B[39m(\u001B[38;5;241m*\u001B[39munused_args, \u001B[38;5;241m*\u001B[39m\u001B[38;5;241m*\u001B[39munused_kwds):\n\u001B[0;32m    789\u001B[0m   \u001B[38;5;124;03m\"\"\"Disables variable creation.\"\"\"\u001B[39;00m\n",
      "File \u001B[1;32mc:\\users\\ajayn\\pycharmprojects\\minor-project-phase-2\\venv\\lib\\site-packages\\tensorflow\\python\\eager\\function.py:2983\u001B[0m, in \u001B[0;36mFunction._get_concrete_function_internal_garbage_collected\u001B[1;34m(self, *args, **kwargs)\u001B[0m\n\u001B[0;32m   2981\u001B[0m   args, kwargs \u001B[38;5;241m=\u001B[39m \u001B[38;5;28;01mNone\u001B[39;00m, \u001B[38;5;28;01mNone\u001B[39;00m\n\u001B[0;32m   2982\u001B[0m \u001B[38;5;28;01mwith\u001B[39;00m \u001B[38;5;28mself\u001B[39m\u001B[38;5;241m.\u001B[39m_lock:\n\u001B[1;32m-> 2983\u001B[0m   graph_function, _ \u001B[38;5;241m=\u001B[39m \u001B[38;5;28;43mself\u001B[39;49m\u001B[38;5;241;43m.\u001B[39;49m\u001B[43m_maybe_define_function\u001B[49m\u001B[43m(\u001B[49m\u001B[43margs\u001B[49m\u001B[43m,\u001B[49m\u001B[43m \u001B[49m\u001B[43mkwargs\u001B[49m\u001B[43m)\u001B[49m\n\u001B[0;32m   2984\u001B[0m \u001B[38;5;28;01mreturn\u001B[39;00m graph_function\n",
      "File \u001B[1;32mc:\\users\\ajayn\\pycharmprojects\\minor-project-phase-2\\venv\\lib\\site-packages\\tensorflow\\python\\eager\\function.py:3292\u001B[0m, in \u001B[0;36mFunction._maybe_define_function\u001B[1;34m(self, args, kwargs)\u001B[0m\n\u001B[0;32m   3288\u001B[0m   \u001B[38;5;28;01mreturn\u001B[39;00m \u001B[38;5;28mself\u001B[39m\u001B[38;5;241m.\u001B[39m_define_function_with_shape_relaxation(\n\u001B[0;32m   3289\u001B[0m       args, kwargs, flat_args, filtered_flat_args)\n\u001B[0;32m   3291\u001B[0m \u001B[38;5;28mself\u001B[39m\u001B[38;5;241m.\u001B[39m_function_cache\u001B[38;5;241m.\u001B[39madd_call_context(cache_key\u001B[38;5;241m.\u001B[39mcall_context)\n\u001B[1;32m-> 3292\u001B[0m graph_function \u001B[38;5;241m=\u001B[39m \u001B[38;5;28;43mself\u001B[39;49m\u001B[38;5;241;43m.\u001B[39;49m\u001B[43m_create_graph_function\u001B[49m\u001B[43m(\u001B[49m\u001B[43margs\u001B[49m\u001B[43m,\u001B[49m\u001B[43m \u001B[49m\u001B[43mkwargs\u001B[49m\u001B[43m)\u001B[49m\n\u001B[0;32m   3293\u001B[0m \u001B[38;5;28mself\u001B[39m\u001B[38;5;241m.\u001B[39m_function_cache\u001B[38;5;241m.\u001B[39madd(cache_key, cache_key_deletion_observer,\n\u001B[0;32m   3294\u001B[0m                          graph_function)\n\u001B[0;32m   3296\u001B[0m \u001B[38;5;28;01mreturn\u001B[39;00m graph_function, filtered_flat_args\n",
      "File \u001B[1;32mc:\\users\\ajayn\\pycharmprojects\\minor-project-phase-2\\venv\\lib\\site-packages\\tensorflow\\python\\eager\\function.py:3130\u001B[0m, in \u001B[0;36mFunction._create_graph_function\u001B[1;34m(self, args, kwargs, override_flat_arg_shapes)\u001B[0m\n\u001B[0;32m   3125\u001B[0m missing_arg_names \u001B[38;5;241m=\u001B[39m [\n\u001B[0;32m   3126\u001B[0m     \u001B[38;5;124m\"\u001B[39m\u001B[38;5;132;01m%s\u001B[39;00m\u001B[38;5;124m_\u001B[39m\u001B[38;5;132;01m%d\u001B[39;00m\u001B[38;5;124m\"\u001B[39m \u001B[38;5;241m%\u001B[39m (arg, i) \u001B[38;5;28;01mfor\u001B[39;00m i, arg \u001B[38;5;129;01min\u001B[39;00m \u001B[38;5;28menumerate\u001B[39m(missing_arg_names)\n\u001B[0;32m   3127\u001B[0m ]\n\u001B[0;32m   3128\u001B[0m arg_names \u001B[38;5;241m=\u001B[39m base_arg_names \u001B[38;5;241m+\u001B[39m missing_arg_names\n\u001B[0;32m   3129\u001B[0m graph_function \u001B[38;5;241m=\u001B[39m ConcreteFunction(\n\u001B[1;32m-> 3130\u001B[0m     \u001B[43mfunc_graph_module\u001B[49m\u001B[38;5;241;43m.\u001B[39;49m\u001B[43mfunc_graph_from_py_func\u001B[49m\u001B[43m(\u001B[49m\n\u001B[0;32m   3131\u001B[0m \u001B[43m        \u001B[49m\u001B[38;5;28;43mself\u001B[39;49m\u001B[38;5;241;43m.\u001B[39;49m\u001B[43m_name\u001B[49m\u001B[43m,\u001B[49m\n\u001B[0;32m   3132\u001B[0m \u001B[43m        \u001B[49m\u001B[38;5;28;43mself\u001B[39;49m\u001B[38;5;241;43m.\u001B[39;49m\u001B[43m_python_function\u001B[49m\u001B[43m,\u001B[49m\n\u001B[0;32m   3133\u001B[0m \u001B[43m        \u001B[49m\u001B[43margs\u001B[49m\u001B[43m,\u001B[49m\n\u001B[0;32m   3134\u001B[0m \u001B[43m        \u001B[49m\u001B[43mkwargs\u001B[49m\u001B[43m,\u001B[49m\n\u001B[0;32m   3135\u001B[0m \u001B[43m        \u001B[49m\u001B[38;5;28;43mself\u001B[39;49m\u001B[38;5;241;43m.\u001B[39;49m\u001B[43minput_signature\u001B[49m\u001B[43m,\u001B[49m\n\u001B[0;32m   3136\u001B[0m \u001B[43m        \u001B[49m\u001B[43mautograph\u001B[49m\u001B[38;5;241;43m=\u001B[39;49m\u001B[38;5;28;43mself\u001B[39;49m\u001B[38;5;241;43m.\u001B[39;49m\u001B[43m_autograph\u001B[49m\u001B[43m,\u001B[49m\n\u001B[0;32m   3137\u001B[0m \u001B[43m        \u001B[49m\u001B[43mautograph_options\u001B[49m\u001B[38;5;241;43m=\u001B[39;49m\u001B[38;5;28;43mself\u001B[39;49m\u001B[38;5;241;43m.\u001B[39;49m\u001B[43m_autograph_options\u001B[49m\u001B[43m,\u001B[49m\n\u001B[0;32m   3138\u001B[0m \u001B[43m        \u001B[49m\u001B[43marg_names\u001B[49m\u001B[38;5;241;43m=\u001B[39;49m\u001B[43marg_names\u001B[49m\u001B[43m,\u001B[49m\n\u001B[0;32m   3139\u001B[0m \u001B[43m        \u001B[49m\u001B[43moverride_flat_arg_shapes\u001B[49m\u001B[38;5;241;43m=\u001B[39;49m\u001B[43moverride_flat_arg_shapes\u001B[49m\u001B[43m,\u001B[49m\n\u001B[0;32m   3140\u001B[0m \u001B[43m        \u001B[49m\u001B[43mcapture_by_value\u001B[49m\u001B[38;5;241;43m=\u001B[39;49m\u001B[38;5;28;43mself\u001B[39;49m\u001B[38;5;241;43m.\u001B[39;49m\u001B[43m_capture_by_value\u001B[49m\u001B[43m)\u001B[49m,\n\u001B[0;32m   3141\u001B[0m     \u001B[38;5;28mself\u001B[39m\u001B[38;5;241m.\u001B[39m_function_attributes,\n\u001B[0;32m   3142\u001B[0m     function_spec\u001B[38;5;241m=\u001B[39m\u001B[38;5;28mself\u001B[39m\u001B[38;5;241m.\u001B[39mfunction_spec,\n\u001B[0;32m   3143\u001B[0m     \u001B[38;5;66;03m# Tell the ConcreteFunction to clean up its graph once it goes out of\u001B[39;00m\n\u001B[0;32m   3144\u001B[0m     \u001B[38;5;66;03m# scope. This is not the default behavior since it gets used in some\u001B[39;00m\n\u001B[0;32m   3145\u001B[0m     \u001B[38;5;66;03m# places (like Keras) where the FuncGraph lives longer than the\u001B[39;00m\n\u001B[0;32m   3146\u001B[0m     \u001B[38;5;66;03m# ConcreteFunction.\u001B[39;00m\n\u001B[0;32m   3147\u001B[0m     shared_func_graph\u001B[38;5;241m=\u001B[39m\u001B[38;5;28;01mFalse\u001B[39;00m)\n\u001B[0;32m   3148\u001B[0m \u001B[38;5;28;01mreturn\u001B[39;00m graph_function\n",
      "File \u001B[1;32mc:\\users\\ajayn\\pycharmprojects\\minor-project-phase-2\\venv\\lib\\site-packages\\tensorflow\\python\\framework\\func_graph.py:1161\u001B[0m, in \u001B[0;36mfunc_graph_from_py_func\u001B[1;34m(name, python_func, args, kwargs, signature, func_graph, autograph, autograph_options, add_control_dependencies, arg_names, op_return_value, collections, capture_by_value, override_flat_arg_shapes, acd_record_initial_resource_uses)\u001B[0m\n\u001B[0;32m   1158\u001B[0m \u001B[38;5;28;01melse\u001B[39;00m:\n\u001B[0;32m   1159\u001B[0m   _, original_func \u001B[38;5;241m=\u001B[39m tf_decorator\u001B[38;5;241m.\u001B[39munwrap(python_func)\n\u001B[1;32m-> 1161\u001B[0m func_outputs \u001B[38;5;241m=\u001B[39m python_func(\u001B[38;5;241m*\u001B[39mfunc_args, \u001B[38;5;241m*\u001B[39m\u001B[38;5;241m*\u001B[39mfunc_kwargs)\n\u001B[0;32m   1163\u001B[0m \u001B[38;5;66;03m# invariant: `func_outputs` contains only Tensors, CompositeTensors,\u001B[39;00m\n\u001B[0;32m   1164\u001B[0m \u001B[38;5;66;03m# TensorArrays and `None`s.\u001B[39;00m\n\u001B[0;32m   1165\u001B[0m func_outputs \u001B[38;5;241m=\u001B[39m nest\u001B[38;5;241m.\u001B[39mmap_structure(convert, func_outputs,\n\u001B[0;32m   1166\u001B[0m                                   expand_composites\u001B[38;5;241m=\u001B[39m\u001B[38;5;28;01mTrue\u001B[39;00m)\n",
      "File \u001B[1;32mc:\\users\\ajayn\\pycharmprojects\\minor-project-phase-2\\venv\\lib\\site-packages\\tensorflow\\python\\eager\\def_function.py:677\u001B[0m, in \u001B[0;36mFunction._defun_with_scope.<locals>.wrapped_fn\u001B[1;34m(*args, **kwds)\u001B[0m\n\u001B[0;32m    673\u001B[0m \u001B[38;5;28;01mwith\u001B[39;00m default_graph\u001B[38;5;241m.\u001B[39m_variable_creator_scope(scope, priority\u001B[38;5;241m=\u001B[39m\u001B[38;5;241m50\u001B[39m):  \u001B[38;5;66;03m# pylint: disable=protected-access\u001B[39;00m\n\u001B[0;32m    674\u001B[0m   \u001B[38;5;66;03m# __wrapped__ allows AutoGraph to swap in a converted function. We give\u001B[39;00m\n\u001B[0;32m    675\u001B[0m   \u001B[38;5;66;03m# the function a weak reference to itself to avoid a reference cycle.\u001B[39;00m\n\u001B[0;32m    676\u001B[0m   \u001B[38;5;28;01mwith\u001B[39;00m OptionalXlaContext(compile_with_xla):\n\u001B[1;32m--> 677\u001B[0m     out \u001B[38;5;241m=\u001B[39m weak_wrapped_fn()\u001B[38;5;241m.\u001B[39m__wrapped__(\u001B[38;5;241m*\u001B[39margs, \u001B[38;5;241m*\u001B[39m\u001B[38;5;241m*\u001B[39mkwds)\n\u001B[0;32m    678\u001B[0m   \u001B[38;5;28;01mreturn\u001B[39;00m out\n",
      "File \u001B[1;32mc:\\users\\ajayn\\pycharmprojects\\minor-project-phase-2\\venv\\lib\\site-packages\\tensorflow\\python\\framework\\func_graph.py:1136\u001B[0m, in \u001B[0;36mfunc_graph_from_py_func.<locals>.autograph_handler\u001B[1;34m(*args, **kwargs)\u001B[0m\n\u001B[0;32m   1134\u001B[0m \u001B[38;5;66;03m# TODO(mdan): Push this block higher in tf.function's call stack.\u001B[39;00m\n\u001B[0;32m   1135\u001B[0m \u001B[38;5;28;01mtry\u001B[39;00m:\n\u001B[1;32m-> 1136\u001B[0m   \u001B[38;5;28;01mreturn\u001B[39;00m \u001B[43mautograph\u001B[49m\u001B[38;5;241;43m.\u001B[39;49m\u001B[43mconverted_call\u001B[49m\u001B[43m(\u001B[49m\n\u001B[0;32m   1137\u001B[0m \u001B[43m      \u001B[49m\u001B[43moriginal_func\u001B[49m\u001B[43m,\u001B[49m\n\u001B[0;32m   1138\u001B[0m \u001B[43m      \u001B[49m\u001B[43margs\u001B[49m\u001B[43m,\u001B[49m\n\u001B[0;32m   1139\u001B[0m \u001B[43m      \u001B[49m\u001B[43mkwargs\u001B[49m\u001B[43m,\u001B[49m\n\u001B[0;32m   1140\u001B[0m \u001B[43m      \u001B[49m\u001B[43moptions\u001B[49m\u001B[38;5;241;43m=\u001B[39;49m\u001B[43mautograph\u001B[49m\u001B[38;5;241;43m.\u001B[39;49m\u001B[43mConversionOptions\u001B[49m\u001B[43m(\u001B[49m\n\u001B[0;32m   1141\u001B[0m \u001B[43m          \u001B[49m\u001B[43mrecursive\u001B[49m\u001B[38;5;241;43m=\u001B[39;49m\u001B[38;5;28;43;01mTrue\u001B[39;49;00m\u001B[43m,\u001B[49m\n\u001B[0;32m   1142\u001B[0m \u001B[43m          \u001B[49m\u001B[43moptional_features\u001B[49m\u001B[38;5;241;43m=\u001B[39;49m\u001B[43mautograph_options\u001B[49m\u001B[43m,\u001B[49m\n\u001B[0;32m   1143\u001B[0m \u001B[43m          \u001B[49m\u001B[43muser_requested\u001B[49m\u001B[38;5;241;43m=\u001B[39;49m\u001B[38;5;28;43;01mTrue\u001B[39;49;00m\u001B[43m,\u001B[49m\n\u001B[0;32m   1144\u001B[0m \u001B[43m      \u001B[49m\u001B[43m)\u001B[49m\u001B[43m)\u001B[49m\n\u001B[0;32m   1145\u001B[0m \u001B[38;5;28;01mexcept\u001B[39;00m \u001B[38;5;167;01mException\u001B[39;00m \u001B[38;5;28;01mas\u001B[39;00m e:  \u001B[38;5;66;03m# pylint:disable=broad-except\u001B[39;00m\n\u001B[0;32m   1146\u001B[0m   \u001B[38;5;28;01mif\u001B[39;00m \u001B[38;5;28mhasattr\u001B[39m(e, \u001B[38;5;124m\"\u001B[39m\u001B[38;5;124mag_error_metadata\u001B[39m\u001B[38;5;124m\"\u001B[39m):\n",
      "File \u001B[1;32mc:\\users\\ajayn\\pycharmprojects\\minor-project-phase-2\\venv\\lib\\site-packages\\tensorflow\\python\\autograph\\impl\\api.py:427\u001B[0m, in \u001B[0;36mconverted_call\u001B[1;34m(f, args, kwargs, caller_fn_scope, options)\u001B[0m\n\u001B[0;32m    425\u001B[0m \u001B[38;5;28;01mtry\u001B[39;00m:\n\u001B[0;32m    426\u001B[0m   program_ctx \u001B[38;5;241m=\u001B[39m converter\u001B[38;5;241m.\u001B[39mProgramContext(options\u001B[38;5;241m=\u001B[39moptions)\n\u001B[1;32m--> 427\u001B[0m   converted_f \u001B[38;5;241m=\u001B[39m \u001B[43m_convert_actual\u001B[49m\u001B[43m(\u001B[49m\u001B[43mtarget_entity\u001B[49m\u001B[43m,\u001B[49m\u001B[43m \u001B[49m\u001B[43mprogram_ctx\u001B[49m\u001B[43m)\u001B[49m\n\u001B[0;32m    428\u001B[0m   \u001B[38;5;28;01mif\u001B[39;00m logging\u001B[38;5;241m.\u001B[39mhas_verbosity(\u001B[38;5;241m2\u001B[39m):\n\u001B[0;32m    429\u001B[0m     _log_callargs(converted_f, effective_args, kwargs)\n",
      "File \u001B[1;32mc:\\users\\ajayn\\pycharmprojects\\minor-project-phase-2\\venv\\lib\\site-packages\\tensorflow\\python\\autograph\\impl\\api.py:269\u001B[0m, in \u001B[0;36m_convert_actual\u001B[1;34m(entity, program_ctx)\u001B[0m\n\u001B[0;32m    264\u001B[0m \u001B[38;5;28;01mif\u001B[39;00m \u001B[38;5;129;01mnot\u001B[39;00m \u001B[38;5;28mhasattr\u001B[39m(entity, \u001B[38;5;124m'\u001B[39m\u001B[38;5;124m__code__\u001B[39m\u001B[38;5;124m'\u001B[39m):\n\u001B[0;32m    265\u001B[0m   \u001B[38;5;28;01mraise\u001B[39;00m \u001B[38;5;167;01mValueError\u001B[39;00m(\u001B[38;5;124m'\u001B[39m\u001B[38;5;124mCannot apply autograph to a function that doesn\u001B[39m\u001B[38;5;130;01m\\'\u001B[39;00m\u001B[38;5;124mt \u001B[39m\u001B[38;5;124m'\u001B[39m\n\u001B[0;32m    266\u001B[0m                    \u001B[38;5;124m'\u001B[39m\u001B[38;5;124mexpose a __code__ object. If this is a @tf.function,\u001B[39m\u001B[38;5;124m'\u001B[39m\n\u001B[0;32m    267\u001B[0m                    \u001B[38;5;124m'\u001B[39m\u001B[38;5;124m try passing f.python_function instead.\u001B[39m\u001B[38;5;124m'\u001B[39m)\n\u001B[1;32m--> 269\u001B[0m transformed, module, source_map \u001B[38;5;241m=\u001B[39m \u001B[43m_TRANSPILER\u001B[49m\u001B[38;5;241;43m.\u001B[39;49m\u001B[43mtransform\u001B[49m\u001B[43m(\u001B[49m\u001B[43mentity\u001B[49m\u001B[43m,\u001B[49m\u001B[43m \u001B[49m\u001B[43mprogram_ctx\u001B[49m\u001B[43m)\u001B[49m\n\u001B[0;32m    271\u001B[0m \u001B[38;5;28;01massert\u001B[39;00m \u001B[38;5;129;01mnot\u001B[39;00m \u001B[38;5;28mhasattr\u001B[39m(transformed, \u001B[38;5;124m'\u001B[39m\u001B[38;5;124mag_module\u001B[39m\u001B[38;5;124m'\u001B[39m)\n\u001B[0;32m    272\u001B[0m \u001B[38;5;28;01massert\u001B[39;00m \u001B[38;5;129;01mnot\u001B[39;00m \u001B[38;5;28mhasattr\u001B[39m(transformed, \u001B[38;5;124m'\u001B[39m\u001B[38;5;124mag_source_map\u001B[39m\u001B[38;5;124m'\u001B[39m)\n",
      "File \u001B[1;32mc:\\users\\ajayn\\pycharmprojects\\minor-project-phase-2\\venv\\lib\\site-packages\\tensorflow\\python\\autograph\\pyct\\transpiler.py:282\u001B[0m, in \u001B[0;36mGenericTranspiler.transform\u001B[1;34m(self, obj, user_context)\u001B[0m\n\u001B[0;32m    267\u001B[0m \u001B[38;5;124;03m\"\"\"Transforms a Python object.\u001B[39;00m\n\u001B[0;32m    268\u001B[0m \n\u001B[0;32m    269\u001B[0m \u001B[38;5;124;03mUsers typically call this method.\u001B[39;00m\n\u001B[1;32m   (...)\u001B[0m\n\u001B[0;32m    279\u001B[0m \u001B[38;5;124;03m  NotImplementedError: if the type of obj is not handled.\u001B[39;00m\n\u001B[0;32m    280\u001B[0m \u001B[38;5;124;03m\"\"\"\u001B[39;00m\n\u001B[0;32m    281\u001B[0m \u001B[38;5;28;01mif\u001B[39;00m inspect\u001B[38;5;241m.\u001B[39misfunction(obj) \u001B[38;5;129;01mor\u001B[39;00m inspect\u001B[38;5;241m.\u001B[39mismethod(obj):\n\u001B[1;32m--> 282\u001B[0m   \u001B[38;5;28;01mreturn\u001B[39;00m \u001B[38;5;28;43mself\u001B[39;49m\u001B[38;5;241;43m.\u001B[39;49m\u001B[43mtransform_function\u001B[49m\u001B[43m(\u001B[49m\u001B[43mobj\u001B[49m\u001B[43m,\u001B[49m\u001B[43m \u001B[49m\u001B[43muser_context\u001B[49m\u001B[43m)\u001B[49m\n\u001B[0;32m    284\u001B[0m \u001B[38;5;28;01mraise\u001B[39;00m \u001B[38;5;167;01mNotImplementedError\u001B[39;00m(\u001B[38;5;124m'\u001B[39m\u001B[38;5;124mNon-function: \u001B[39m\u001B[38;5;132;01m{}\u001B[39;00m\u001B[38;5;124m'\u001B[39m\u001B[38;5;241m.\u001B[39mformat(\u001B[38;5;28mtype\u001B[39m(obj)))\n",
      "File \u001B[1;32mc:\\users\\ajayn\\pycharmprojects\\minor-project-phase-2\\venv\\lib\\site-packages\\tensorflow\\python\\autograph\\pyct\\transpiler.py:486\u001B[0m, in \u001B[0;36mPyToPy.transform_function\u001B[1;34m(self, fn, user_context)\u001B[0m\n\u001B[0;32m    482\u001B[0m         logging\u001B[38;5;241m.\u001B[39mlog(\u001B[38;5;241m2\u001B[39m, \u001B[38;5;124m'\u001B[39m\u001B[38;5;124mTransformed \u001B[39m\u001B[38;5;132;01m%s\u001B[39;00m\u001B[38;5;124m:\u001B[39m\u001B[38;5;130;01m\\n\u001B[39;00m\u001B[38;5;130;01m\\n\u001B[39;00m\u001B[38;5;132;01m%s\u001B[39;00m\u001B[38;5;130;01m\\n\u001B[39;00m\u001B[38;5;124m'\u001B[39m, fn, parser\u001B[38;5;241m.\u001B[39munparse(nodes))\n\u001B[0;32m    484\u001B[0m       factory \u001B[38;5;241m=\u001B[39m _PythonFnFactory(\n\u001B[0;32m    485\u001B[0m           ctx\u001B[38;5;241m.\u001B[39minfo\u001B[38;5;241m.\u001B[39mname, fn\u001B[38;5;241m.\u001B[39m\u001B[38;5;18m__code__\u001B[39m\u001B[38;5;241m.\u001B[39mco_freevars, \u001B[38;5;28mself\u001B[39m\u001B[38;5;241m.\u001B[39mget_extra_locals())\n\u001B[1;32m--> 486\u001B[0m       \u001B[43mfactory\u001B[49m\u001B[38;5;241;43m.\u001B[39;49m\u001B[43mcreate\u001B[49m\u001B[43m(\u001B[49m\n\u001B[0;32m    487\u001B[0m \u001B[43m          \u001B[49m\u001B[43mnodes\u001B[49m\u001B[43m,\u001B[49m\u001B[43m \u001B[49m\u001B[43mctx\u001B[49m\u001B[38;5;241;43m.\u001B[39;49m\u001B[43mnamer\u001B[49m\u001B[43m,\u001B[49m\u001B[43m \u001B[49m\u001B[43mfuture_features\u001B[49m\u001B[38;5;241;43m=\u001B[39;49m\u001B[43mctx\u001B[49m\u001B[38;5;241;43m.\u001B[39;49m\u001B[43minfo\u001B[49m\u001B[38;5;241;43m.\u001B[39;49m\u001B[43mfuture_features\u001B[49m\u001B[43m)\u001B[49m\n\u001B[0;32m    488\u001B[0m       \u001B[38;5;28mself\u001B[39m\u001B[38;5;241m.\u001B[39m_cache[fn][cache_subkey] \u001B[38;5;241m=\u001B[39m factory\n\u001B[0;32m    490\u001B[0m transformed_fn \u001B[38;5;241m=\u001B[39m factory\u001B[38;5;241m.\u001B[39minstantiate(\n\u001B[0;32m    491\u001B[0m     globals_\u001B[38;5;241m=\u001B[39mfn\u001B[38;5;241m.\u001B[39m\u001B[38;5;18m__globals__\u001B[39m,\n\u001B[0;32m    492\u001B[0m     closure\u001B[38;5;241m=\u001B[39mfn\u001B[38;5;241m.\u001B[39m\u001B[38;5;18m__closure__\u001B[39m \u001B[38;5;129;01mor\u001B[39;00m (),\n\u001B[0;32m    493\u001B[0m     defaults\u001B[38;5;241m=\u001B[39mfn\u001B[38;5;241m.\u001B[39m\u001B[38;5;18m__defaults__\u001B[39m,\n\u001B[0;32m    494\u001B[0m     kwdefaults\u001B[38;5;241m=\u001B[39m\u001B[38;5;28mgetattr\u001B[39m(fn, \u001B[38;5;124m'\u001B[39m\u001B[38;5;124m__kwdefaults__\u001B[39m\u001B[38;5;124m'\u001B[39m, \u001B[38;5;28;01mNone\u001B[39;00m))\n",
      "File \u001B[1;32mc:\\users\\ajayn\\pycharmprojects\\minor-project-phase-2\\venv\\lib\\site-packages\\tensorflow\\python\\autograph\\pyct\\transpiler.py:179\u001B[0m, in \u001B[0;36m_PythonFnFactory.create\u001B[1;34m(self, nodes, namer, inner_factory_name, outer_factory_name, future_features)\u001B[0m\n\u001B[0;32m    174\u001B[0m outer_factory_name \u001B[38;5;241m=\u001B[39m namer\u001B[38;5;241m.\u001B[39mnew_symbol(outer_factory_name, ())\n\u001B[0;32m    175\u001B[0m nodes \u001B[38;5;241m=\u001B[39m _wrap_into_factory(nodes, \u001B[38;5;28mself\u001B[39m\u001B[38;5;241m.\u001B[39m_name, inner_factory_name,\n\u001B[0;32m    176\u001B[0m                            outer_factory_name, \u001B[38;5;28mself\u001B[39m\u001B[38;5;241m.\u001B[39m_freevars,\n\u001B[0;32m    177\u001B[0m                            \u001B[38;5;28mself\u001B[39m\u001B[38;5;241m.\u001B[39m_extra_locals\u001B[38;5;241m.\u001B[39mkeys(), future_features)\n\u001B[1;32m--> 179\u001B[0m module, _, source_map \u001B[38;5;241m=\u001B[39m \u001B[43mloader\u001B[49m\u001B[38;5;241;43m.\u001B[39;49m\u001B[43mload_ast\u001B[49m\u001B[43m(\u001B[49m\n\u001B[0;32m    180\u001B[0m \u001B[43m    \u001B[49m\u001B[43mnodes\u001B[49m\u001B[43m,\u001B[49m\u001B[43m \u001B[49m\u001B[43minclude_source_map\u001B[49m\u001B[38;5;241;43m=\u001B[39;49m\u001B[38;5;28;43;01mTrue\u001B[39;49;00m\u001B[43m)\u001B[49m\n\u001B[0;32m    181\u001B[0m outer_factory \u001B[38;5;241m=\u001B[39m \u001B[38;5;28mgetattr\u001B[39m(module, outer_factory_name)\n\u001B[0;32m    182\u001B[0m \u001B[38;5;28mself\u001B[39m\u001B[38;5;241m.\u001B[39m_unbound_factory \u001B[38;5;241m=\u001B[39m outer_factory()\n",
      "File \u001B[1;32mc:\\users\\ajayn\\pycharmprojects\\minor-project-phase-2\\venv\\lib\\site-packages\\tensorflow\\python\\autograph\\pyct\\loader.py:95\u001B[0m, in \u001B[0;36mload_ast\u001B[1;34m(nodes, indentation, include_source_map, delete_on_exit)\u001B[0m\n\u001B[0;32m     92\u001B[0m   nodes \u001B[38;5;241m=\u001B[39m (nodes,)\n\u001B[0;32m     94\u001B[0m source \u001B[38;5;241m=\u001B[39m parser\u001B[38;5;241m.\u001B[39munparse(nodes, indentation\u001B[38;5;241m=\u001B[39mindentation)\n\u001B[1;32m---> 95\u001B[0m module, _ \u001B[38;5;241m=\u001B[39m \u001B[43mload_source\u001B[49m\u001B[43m(\u001B[49m\u001B[43msource\u001B[49m\u001B[43m,\u001B[49m\u001B[43m \u001B[49m\u001B[43mdelete_on_exit\u001B[49m\u001B[43m)\u001B[49m\n\u001B[0;32m     97\u001B[0m \u001B[38;5;28;01mif\u001B[39;00m include_source_map:\n\u001B[0;32m     98\u001B[0m   source_map \u001B[38;5;241m=\u001B[39m origin_info\u001B[38;5;241m.\u001B[39mcreate_source_map(nodes, source, module\u001B[38;5;241m.\u001B[39m\u001B[38;5;18m__file__\u001B[39m)\n",
      "File \u001B[1;32mc:\\users\\ajayn\\pycharmprojects\\minor-project-phase-2\\venv\\lib\\site-packages\\tensorflow\\python\\autograph\\pyct\\loader.py:62\u001B[0m, in \u001B[0;36mload_source\u001B[1;34m(source, delete_on_exit)\u001B[0m\n\u001B[0;32m     60\u001B[0m spec \u001B[38;5;241m=\u001B[39m importlib\u001B[38;5;241m.\u001B[39mutil\u001B[38;5;241m.\u001B[39mspec_from_file_location(module_name, file_name)\n\u001B[0;32m     61\u001B[0m module \u001B[38;5;241m=\u001B[39m importlib\u001B[38;5;241m.\u001B[39mutil\u001B[38;5;241m.\u001B[39mmodule_from_spec(spec)\n\u001B[1;32m---> 62\u001B[0m \u001B[43mspec\u001B[49m\u001B[38;5;241;43m.\u001B[39;49m\u001B[43mloader\u001B[49m\u001B[38;5;241;43m.\u001B[39;49m\u001B[43mexec_module\u001B[49m\u001B[43m(\u001B[49m\u001B[43mmodule\u001B[49m\u001B[43m)\u001B[49m\n\u001B[0;32m     63\u001B[0m \u001B[38;5;66;03m# TODO(mdan): Use our own garbage-collected cache instead of sys.modules.\u001B[39;00m\n\u001B[0;32m     64\u001B[0m sys\u001B[38;5;241m.\u001B[39mmodules[module_name] \u001B[38;5;241m=\u001B[39m module\n",
      "File \u001B[1;32m<frozen importlib._bootstrap_external>:879\u001B[0m, in \u001B[0;36mexec_module\u001B[1;34m(self, module)\u001B[0m\n",
      "File \u001B[1;32m<frozen importlib._bootstrap_external>:1016\u001B[0m, in \u001B[0;36mget_code\u001B[1;34m(self, fullname)\u001B[0m\n",
      "File \u001B[1;32m<frozen importlib._bootstrap_external>:1074\u001B[0m, in \u001B[0;36mget_data\u001B[1;34m(self, path)\u001B[0m\n",
      "\u001B[1;31mKeyboardInterrupt\u001B[0m: "
     ]
    }
   ],
   "source": [
    "history = model.fit(X_train, y_train, batch_size=2048, epochs=100, validation_data=(X_test, y_test))"
   ],
   "metadata": {
    "collapsed": false,
    "pycharm": {
     "name": "#%%\n"
    }
   }
  },
  {
   "cell_type": "code",
   "execution_count": null,
   "outputs": [],
   "source": [
    "print(\"Accuracy of our model on test data : \" , model.evaluate(X_test,y_test)[1]*100 , \"%\")"
   ],
   "metadata": {
    "collapsed": false,
    "pycharm": {
     "name": "#%%\n"
    }
   }
  },
  {
   "cell_type": "code",
   "execution_count": null,
   "outputs": [],
   "source": [
    "model.save('result.h5')"
   ],
   "metadata": {
    "collapsed": false,
    "pycharm": {
     "name": "#%%\n"
    }
   }
  },
  {
   "cell_type": "code",
   "execution_count": 1,
   "outputs": [],
   "source": [
    "from keras.models import load_model"
   ],
   "metadata": {
    "collapsed": false,
    "pycharm": {
     "name": "#%%\n"
    }
   }
  },
  {
   "cell_type": "code",
   "execution_count": 2,
   "outputs": [],
   "source": [
    "def get_features(path):\n",
    "    # duration and offset are used to take care of the no audio in start and the ending of each audio files as seen above.\n",
    "    data, sample_rate = librosa.load(path, duration=2.5, offset=0.6)\n",
    "\n",
    "    # without augmentation\n",
    "    res1 = extract_features(data, sample_rate)\n",
    "    result = np.array(res1)\n",
    "\n",
    "    return result\n",
    "def extract_features(data, sample_rate):\n",
    "    # ZCR\n",
    "    result = np.array([])\n",
    "    zcr = np.mean(librosa.feature.zero_crossing_rate(y=data).T, axis=0)\n",
    "    result=np.hstack((result, zcr)) # stacking horizontally\n",
    "\n",
    "    # Chroma_stft\n",
    "    stft = np.abs(librosa.stft(data))\n",
    "    chroma_stft = np.mean(librosa.feature.chroma_stft(S=stft, sr=sample_rate).T, axis=0)\n",
    "    result = np.hstack((result, chroma_stft)) # stacking horizontally\n",
    "\n",
    "    # MFCC\n",
    "    mfcc = np.mean(librosa.feature.mfcc(y=data, sr=sample_rate).T, axis=0)\n",
    "    result = np.hstack((result, mfcc)) # stacking horizontally\n",
    "\n",
    "    # Root Mean Square Value\n",
    "    rms = np.mean(librosa.feature.rms(y=data).T, axis=0)\n",
    "    result = np.hstack((result, rms)) # stacking horizontally\n",
    "\n",
    "    # MelSpectogram\n",
    "    mel = np.mean(librosa.feature.melspectrogram(y=data, sr=sample_rate).T, axis=0)\n",
    "    result = np.hstack((result, mel)) # stacking horizontally\n",
    "\n",
    "    return result"
   ],
   "metadata": {
    "collapsed": false,
    "pycharm": {
     "name": "#%%\n"
    }
   }
  },
  {
   "cell_type": "code",
   "execution_count": 3,
   "outputs": [
    {
     "ename": "NameError",
     "evalue": "name 'librosa' is not defined",
     "output_type": "error",
     "traceback": [
      "\u001B[1;31m---------------------------------------------------------------------------\u001B[0m",
      "\u001B[1;31mNameError\u001B[0m                                 Traceback (most recent call last)",
      "Input \u001B[1;32mIn [3]\u001B[0m, in \u001B[0;36m<cell line: 1>\u001B[1;34m()\u001B[0m\n\u001B[1;32m----> 1\u001B[0m feature \u001B[38;5;241m=\u001B[39m \u001B[43mget_features\u001B[49m\u001B[43m(\u001B[49m\u001B[38;5;124;43m'\u001B[39;49m\u001B[38;5;124;43mKabir Singh - Angry Dialogue.wav\u001B[39;49m\u001B[38;5;124;43m'\u001B[39;49m\u001B[43m)\u001B[49m\n\u001B[0;32m      2\u001B[0m feature \u001B[38;5;241m=\u001B[39m np\u001B[38;5;241m.\u001B[39marray(feature)\u001B[38;5;241m.\u001B[39mreshape(\u001B[38;5;241m-\u001B[39m\u001B[38;5;241m1\u001B[39m,\u001B[38;5;241m162\u001B[39m)\n\u001B[0;32m      3\u001B[0m feature\u001B[38;5;241m.\u001B[39mshape\n",
      "Input \u001B[1;32mIn [2]\u001B[0m, in \u001B[0;36mget_features\u001B[1;34m(path)\u001B[0m\n\u001B[0;32m      1\u001B[0m \u001B[38;5;28;01mdef\u001B[39;00m \u001B[38;5;21mget_features\u001B[39m(path):\n\u001B[0;32m      2\u001B[0m     \u001B[38;5;66;03m# duration and offset are used to take care of the no audio in start and the ending of each audio files as seen above.\u001B[39;00m\n\u001B[1;32m----> 3\u001B[0m     data, sample_rate \u001B[38;5;241m=\u001B[39m \u001B[43mlibrosa\u001B[49m\u001B[38;5;241m.\u001B[39mload(path, duration\u001B[38;5;241m=\u001B[39m\u001B[38;5;241m2.5\u001B[39m, offset\u001B[38;5;241m=\u001B[39m\u001B[38;5;241m0.6\u001B[39m)\n\u001B[0;32m      5\u001B[0m     \u001B[38;5;66;03m# without augmentation\u001B[39;00m\n\u001B[0;32m      6\u001B[0m     res1 \u001B[38;5;241m=\u001B[39m extract_features(data, sample_rate)\n",
      "\u001B[1;31mNameError\u001B[0m: name 'librosa' is not defined"
     ]
    }
   ],
   "source": [
    "feature = get_features('')\n",
    "feature = np.array(feature).reshape(-1,162)\n",
    "feature.shape"
   ],
   "metadata": {
    "collapsed": false,
    "pycharm": {
     "name": "#%%\n"
    }
   }
  },
  {
   "cell_type": "code",
   "execution_count": null,
   "outputs": [],
   "source": [
    "loadedModel = load_model('result_73_61.h5')\n",
    "loadedModel.summary()"
   ],
   "metadata": {
    "collapsed": false,
    "pycharm": {
     "name": "#%%\n"
    }
   }
  },
  {
   "cell_type": "code",
   "execution_count": null,
   "outputs": [],
   "source": [
    "result = loadedModel.predict([feature], batch_size=1)\n",
    "prediction = encoder.inverse_transform(result)\n",
    "print(prediction)"
   ],
   "metadata": {
    "collapsed": false,
    "pycharm": {
     "name": "#%%\n"
    }
   }
  },
  {
   "cell_type": "code",
   "execution_count": null,
   "outputs": [],
   "source": [],
   "metadata": {
    "collapsed": false,
    "pycharm": {
     "name": "#%%\n"
    }
   }
  }
 ]
}