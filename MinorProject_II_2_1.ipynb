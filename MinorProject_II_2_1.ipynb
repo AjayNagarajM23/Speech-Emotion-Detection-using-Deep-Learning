{
 "metadata": {
  "kernelspec": {
   "language": "python",
   "display_name": "Python 3",
   "name": "python3"
  },
  "language_info": {
   "pygments_lexer": "ipython3",
   "nbconvert_exporter": "python",
   "version": "3.6.4",
   "file_extension": ".py",
   "codemirror_mode": {
    "name": "ipython",
    "version": 3
   },
   "name": "python",
   "mimetype": "text/x-python"
  }
 },
 "nbformat_minor": 4,
 "nbformat": 4,
 "cells": [
  {
   "cell_type": "code",
   "source": [
    "import pandas as pd\n",
    "import numpy as np\n",
    "from sklearn.preprocessing import OneHotEncoder\n",
    "from sklearn.model_selection import train_test_split\n",
    "from sklearn.preprocessing import StandardScaler\n",
    "import tensorflow as tf"
   ],
   "metadata": {
    "collapsed": false,
    "pycharm": {
     "name": "#%%\n"
    },
    "jupyter": {
     "outputs_hidden": false
    },
    "execution": {
     "iopub.status.busy": "2022-07-03T13:36:13.567008Z",
     "iopub.execute_input": "2022-07-03T13:36:13.567349Z",
     "iopub.status.idle": "2022-07-03T13:36:13.573373Z",
     "shell.execute_reply.started": "2022-07-03T13:36:13.567317Z",
     "shell.execute_reply": "2022-07-03T13:36:13.572488Z"
    },
    "trusted": true
   },
   "execution_count": null,
   "outputs": []
  },
  {
   "cell_type": "code",
   "source": [
    "dataset = pd.read_csv('../input/allfeatures/features_all.csv')\n",
    "X = dataset.iloc[: , :-1].values\n",
    "y = dataset.iloc[:,-1].values"
   ],
   "metadata": {
    "collapsed": false,
    "pycharm": {
     "name": "#%%\n"
    },
    "jupyter": {
     "outputs_hidden": false
    },
    "execution": {
     "iopub.status.busy": "2022-07-03T13:36:13.575041Z",
     "iopub.execute_input": "2022-07-03T13:36:13.575553Z",
     "iopub.status.idle": "2022-07-03T13:36:15.931868Z",
     "shell.execute_reply.started": "2022-07-03T13:36:13.575515Z",
     "shell.execute_reply": "2022-07-03T13:36:15.931096Z"
    },
    "trusted": true
   },
   "execution_count": null,
   "outputs": []
  },
  {
   "cell_type": "code",
   "source": [
    "print(X)"
   ],
   "metadata": {
    "collapsed": false,
    "pycharm": {
     "name": "#%%\n"
    },
    "jupyter": {
     "outputs_hidden": false
    },
    "execution": {
     "iopub.status.busy": "2022-07-03T13:36:15.934018Z",
     "iopub.execute_input": "2022-07-03T13:36:15.934625Z",
     "iopub.status.idle": "2022-07-03T13:36:15.9417Z",
     "shell.execute_reply.started": "2022-07-03T13:36:15.934575Z",
     "shell.execute_reply": "2022-07-03T13:36:15.940653Z"
    },
    "trusted": true
   },
   "execution_count": null,
   "outputs": []
  },
  {
   "cell_type": "code",
   "source": [
    "print(y)"
   ],
   "metadata": {
    "collapsed": false,
    "pycharm": {
     "name": "#%%\n"
    },
    "jupyter": {
     "outputs_hidden": false
    },
    "execution": {
     "iopub.status.busy": "2022-07-03T13:36:15.944733Z",
     "iopub.execute_input": "2022-07-03T13:36:15.945177Z",
     "iopub.status.idle": "2022-07-03T13:36:15.950926Z",
     "shell.execute_reply.started": "2022-07-03T13:36:15.945144Z",
     "shell.execute_reply": "2022-07-03T13:36:15.949946Z"
    },
    "trusted": true
   },
   "execution_count": null,
   "outputs": []
  },
  {
   "cell_type": "code",
   "source": [
    "encoder = OneHotEncoder()\n",
    "y = encoder.fit_transform(np.array(y).reshape(-1,1)).toarray()"
   ],
   "metadata": {
    "id": "ITpDoUKuYk2i",
    "execution": {
     "iopub.status.busy": "2022-07-03T13:36:15.954285Z",
     "iopub.execute_input": "2022-07-03T13:36:15.954727Z",
     "iopub.status.idle": "2022-07-03T13:36:15.9798Z",
     "shell.execute_reply.started": "2022-07-03T13:36:15.954691Z",
     "shell.execute_reply": "2022-07-03T13:36:15.97912Z"
    },
    "trusted": true
   },
   "execution_count": null,
   "outputs": []
  },
  {
   "cell_type": "code",
   "source": [
    "print(y)"
   ],
   "metadata": {
    "id": "r0IrFBJoZev2",
    "outputId": "bd394635-5ac0-4be9-f2ce-90ffe177912f",
    "execution": {
     "iopub.status.busy": "2022-07-03T13:36:15.981446Z",
     "iopub.execute_input": "2022-07-03T13:36:15.981792Z",
     "iopub.status.idle": "2022-07-03T13:36:15.988145Z",
     "shell.execute_reply.started": "2022-07-03T13:36:15.981758Z",
     "shell.execute_reply": "2022-07-03T13:36:15.987138Z"
    },
    "trusted": true
   },
   "execution_count": null,
   "outputs": []
  },
  {
   "cell_type": "code",
   "source": [
    "X_train, X_test, y_train, y_test = train_test_split(X, y,random_state = 47, shuffle=True, test_size=0.15)\n",
    "X_train.shape, y_train.shape, X_test.shape, y_test.shape"
   ],
   "metadata": {
    "id": "_clxms6cVGWn",
    "outputId": "94fb48f2-5bdd-41ed-a849-21c0ddfc2fa4",
    "execution": {
     "iopub.status.busy": "2022-07-03T13:36:15.989732Z",
     "iopub.execute_input": "2022-07-03T13:36:15.990454Z",
     "iopub.status.idle": "2022-07-03T13:36:16.059338Z",
     "shell.execute_reply.started": "2022-07-03T13:36:15.990415Z",
     "shell.execute_reply": "2022-07-03T13:36:16.058424Z"
    },
    "trusted": true
   },
   "execution_count": null,
   "outputs": []
  },
  {
   "cell_type": "code",
   "source": [
    "sc = StandardScaler()\n",
    "X_train = sc.fit_transform(X_train)\n",
    "X_test = sc.transform(X_test)\n",
    "X_train.shape, y_train.shape, X_test.shape, y_test.shape"
   ],
   "metadata": {
    "id": "PLZYIGdAVKMG",
    "outputId": "084e0edc-624d-4111-bbbd-fae757539aa4",
    "execution": {
     "iopub.status.busy": "2022-07-03T13:36:16.060582Z",
     "iopub.execute_input": "2022-07-03T13:36:16.060919Z",
     "iopub.status.idle": "2022-07-03T13:36:16.181645Z",
     "shell.execute_reply.started": "2022-07-03T13:36:16.06089Z",
     "shell.execute_reply": "2022-07-03T13:36:16.180873Z"
    },
    "trusted": true
   },
   "execution_count": null,
   "outputs": []
  },
  {
   "cell_type": "code",
   "source": [
    "# making our data compatible to model.\n",
    "X_train = np.expand_dims(X_train, axis=2)\n",
    "X_test = np.expand_dims(X_test, axis=2)\n",
    "X_train.shape, y_train.shape, X_test.shape, y_test.shape"
   ],
   "metadata": {
    "id": "Vz6MKWzOkHJF",
    "outputId": "318e7e1b-9660-44eb-9f9a-83db82db97c8",
    "execution": {
     "iopub.status.busy": "2022-07-03T13:36:16.183013Z",
     "iopub.execute_input": "2022-07-03T13:36:16.183348Z",
     "iopub.status.idle": "2022-07-03T13:36:16.190243Z",
     "shell.execute_reply.started": "2022-07-03T13:36:16.183313Z",
     "shell.execute_reply": "2022-07-03T13:36:16.189438Z"
    },
    "trusted": true
   },
   "execution_count": null,
   "outputs": []
  },
  {
   "cell_type": "code",
   "source": [
    "from keras.models import Sequential\n",
    "from keras.layers import Dense\n",
    "from keras.layers import Flatten, Dropout, Activation\n",
    "from keras.layers import Conv1D, MaxPooling1D"
   ],
   "metadata": {
    "id": "MWw6bofglFB7",
    "execution": {
     "iopub.status.busy": "2022-07-03T13:36:16.191453Z",
     "iopub.execute_input": "2022-07-03T13:36:16.191961Z",
     "iopub.status.idle": "2022-07-03T13:36:16.200458Z",
     "shell.execute_reply.started": "2022-07-03T13:36:16.191925Z",
     "shell.execute_reply": "2022-07-03T13:36:16.199667Z"
    },
    "trusted": true
   },
   "execution_count": null,
   "outputs": []
  },
  {
   "cell_type": "code",
   "source": [
    "model = Sequential()\n",
    "\n",
    "model.add(Conv1D(16, 5,padding='same',input_shape=(162, 1), activation='relu'))\n",
    "model.add(MaxPooling1D(pool_size=2))\n",
    "model.add(Dropout(0.15))\n",
    "\n",
    "model.add(Conv1D(32, 5,padding='same',activation='relu'))\n",
    "model.add(MaxPooling1D(pool_size=2))\n",
    "model.add(Dropout(0.15))\n",
    "\n",
    "model.add(Conv1D(64, 5,padding='same',activation='relu'))\n",
    "model.add(MaxPooling1D(pool_size=2))\n",
    "model.add(Dropout(0.15))\n",
    "\n",
    "model.add(Conv1D(128, 5,padding='same',activation='relu'))\n",
    "model.add(MaxPooling1D(pool_size=2))\n",
    "model.add(Dropout(0.15))\n",
    "\n",
    "model.add(Conv1D(256, 5,padding='same',activation='relu'))\n",
    "model.add(MaxPooling1D(pool_size=2))\n",
    "model.add(Dropout(0.15))\n",
    "\n",
    "model.add(Conv1D(512, 5,padding='same',activation='relu'))\n",
    "model.add(MaxPooling1D(pool_size=2))\n",
    "model.add(Dropout(0.15))\n",
    "\n",
    "model.add(Conv1D(1024, 5,padding='same',activation='relu'))\n",
    "model.add(MaxPooling1D(pool_size=2))\n",
    "model.add(Dropout(0.15)) \n",
    "\n",
    "model.add(Flatten())\n",
    "\n",
    "model.add(Dense(256, activation ='relu'))\n",
    "model.add(Dropout(0.15))\n",
    "\n",
    "model.add(Dense(128, activation ='relu'))\n",
    "model.add(Dropout(0.15))\n",
    "\n",
    "model.add(Dense(64, activation ='relu'))\n",
    "\n",
    "model.add(Dense(8, activation='relu'))\n",
    "\n",
    "model.add(Dense(8, activation='softmax'))\n",
    "\n",
    "model.summary()"
   ],
   "metadata": {
    "id": "il8CEeEwlB77",
    "outputId": "58ea5e52-ecdf-4747-eac5-ccd18b2cc67f",
    "execution": {
     "iopub.status.busy": "2022-07-03T13:36:16.201682Z",
     "iopub.execute_input": "2022-07-03T13:36:16.202092Z",
     "iopub.status.idle": "2022-07-03T13:36:16.507257Z",
     "shell.execute_reply.started": "2022-07-03T13:36:16.202061Z",
     "shell.execute_reply": "2022-07-03T13:36:16.506528Z"
    },
    "trusted": true
   },
   "execution_count": null,
   "outputs": []
  },
  {
   "cell_type": "code",
   "source": "model.compile(loss='categorical_crossentropy', optimizer='adam', metrics=['accuracy'])",
   "metadata": {
    "id": "BTI8FaKznVBd",
    "execution": {
     "iopub.status.busy": "2022-07-03T13:36:16.510914Z",
     "iopub.execute_input": "2022-07-03T13:36:16.511157Z",
     "iopub.status.idle": "2022-07-03T13:36:16.553436Z",
     "shell.execute_reply.started": "2022-07-03T13:36:16.511133Z",
     "shell.execute_reply": "2022-07-03T13:36:16.552806Z"
    },
    "trusted": true
   },
   "execution_count": null,
   "outputs": []
  },
  {
   "cell_type": "code",
   "source": "history = model.fit(X_train, y_train, batch_size=8, epochs=200, validation_data=(X_test, y_test))",
   "metadata": {
    "id": "8QqjjbOona87",
    "outputId": "e3ad468b-690f-4ec2-e600-e6bc7ea24448",
    "pycharm": {
     "name": "#%%\n"
    },
    "execution": {
     "iopub.status.busy": "2022-07-03T13:36:16.555236Z",
     "iopub.execute_input": "2022-07-03T13:36:16.555475Z",
     "iopub.status.idle": "2022-07-03T13:36:16.594406Z",
     "shell.execute_reply.started": "2022-07-03T13:36:16.555451Z",
     "shell.execute_reply": "2022-07-03T13:36:16.592725Z"
    },
    "trusted": true
   },
   "execution_count": null,
   "outputs": []
  },
  {
   "cell_type": "code",
   "source": "print(\"Accuracy of our model on test data : \" , model.evaluate(X_test,y_test)[1]*100 , \"%\")",
   "metadata": {
    "collapsed": false,
    "pycharm": {
     "name": "#%%\n"
    },
    "jupyter": {
     "outputs_hidden": false
    },
    "execution": {
     "iopub.status.busy": "2022-07-03T13:36:16.595561Z",
     "iopub.status.idle": "2022-07-03T13:36:16.596352Z"
    },
    "trusted": true
   },
   "execution_count": null,
   "outputs": []
  },
  {
   "cell_type": "code",
   "source": "pred_test = model.predict(X_test)\ny_pred = encoder.inverse_transform(pred_test)\n\ny_test = encoder.inverse_transform(y_test)",
   "metadata": {
    "collapsed": false,
    "pycharm": {
     "name": "#%%\n"
    },
    "jupyter": {
     "outputs_hidden": false
    },
    "execution": {
     "iopub.status.busy": "2022-07-03T13:36:16.597575Z",
     "iopub.status.idle": "2022-07-03T13:36:16.598358Z"
    },
    "trusted": true
   },
   "execution_count": null,
   "outputs": []
  },
  {
   "cell_type": "code",
   "source": "df = pd.DataFrame(columns=['Predicted Labels', 'Actual Labels'])\ndf['Predicted Labels'] = y_pred.flatten()\ndf['Actual Labels'] = y_test.flatten()\n\ndf.head(20)",
   "metadata": {
    "collapsed": false,
    "pycharm": {
     "name": "#%%\n"
    },
    "jupyter": {
     "outputs_hidden": false
    },
    "execution": {
     "iopub.status.busy": "2022-07-03T13:36:16.599523Z",
     "iopub.status.idle": "2022-07-03T13:36:16.600306Z"
    },
    "trusted": true
   },
   "execution_count": null,
   "outputs": []
  },
  {
   "cell_type": "code",
   "source": "model.save('final_model_collectedSample.h5')",
   "metadata": {
    "execution": {
     "iopub.status.busy": "2022-07-03T13:36:16.601519Z",
     "iopub.status.idle": "2022-07-03T13:36:16.602311Z"
    },
    "trusted": true
   },
   "execution_count": null,
   "outputs": []
  }
 ]
}